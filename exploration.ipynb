{
 "cells": [
  {
   "cell_type": "code",
   "execution_count": 19,
   "metadata": {},
   "outputs": [],
   "source": [
    "import numpy as np\n",
    "import pandas as pd\n",
    "import matplotlib.pyplot as plt\n",
    "import seaborn as sns\n",
    "import plotly.express as px"
   ]
  },
  {
   "cell_type": "code",
   "execution_count": 13,
   "metadata": {},
   "outputs": [
    {
     "data": {
      "text/html": [
       "<div>\n",
       "<style scoped>\n",
       "    .dataframe tbody tr th:only-of-type {\n",
       "        vertical-align: middle;\n",
       "    }\n",
       "\n",
       "    .dataframe tbody tr th {\n",
       "        vertical-align: top;\n",
       "    }\n",
       "\n",
       "    .dataframe thead th {\n",
       "        text-align: right;\n",
       "    }\n",
       "</style>\n",
       "<table border=\"1\" class=\"dataframe\">\n",
       "  <thead>\n",
       "    <tr style=\"text-align: right;\">\n",
       "      <th></th>\n",
       "      <th>ID_Alumno</th>\n",
       "      <th>Fecha</th>\n",
       "      <th>Curso</th>\n",
       "      <th>Años_Inscrito</th>\n",
       "      <th>Banda</th>\n",
       "      <th>Asignatura</th>\n",
       "      <th>Instrumento</th>\n",
       "      <th>Profesor</th>\n",
       "      <th>Aprobado</th>\n",
       "      <th>Horas_Practica</th>\n",
       "      <th>Satisfaccion</th>\n",
       "      <th>Abandono_Educacion</th>\n",
       "      <th>Pruebas_Grado_Profesional</th>\n",
       "      <th>Avance_Grado_Profesional</th>\n",
       "      <th>Promedio_Asistencia</th>\n",
       "    </tr>\n",
       "  </thead>\n",
       "  <tbody>\n",
       "    <tr>\n",
       "      <th>0</th>\n",
       "      <td>1</td>\n",
       "      <td>2022-01-01</td>\n",
       "      <td>Primero</td>\n",
       "      <td>1</td>\n",
       "      <td>False</td>\n",
       "      <td>Instrumento</td>\n",
       "      <td>Oboe</td>\n",
       "      <td>Gabrielle Davis</td>\n",
       "      <td>True</td>\n",
       "      <td>3</td>\n",
       "      <td>4</td>\n",
       "      <td>False</td>\n",
       "      <td>False</td>\n",
       "      <td>False</td>\n",
       "      <td>0.68</td>\n",
       "    </tr>\n",
       "    <tr>\n",
       "      <th>1</th>\n",
       "      <td>1</td>\n",
       "      <td>2022-06-01</td>\n",
       "      <td>Primero</td>\n",
       "      <td>1</td>\n",
       "      <td>False</td>\n",
       "      <td>Coro</td>\n",
       "      <td>Oboe</td>\n",
       "      <td>Cristian Santos</td>\n",
       "      <td>True</td>\n",
       "      <td>3</td>\n",
       "      <td>4</td>\n",
       "      <td>False</td>\n",
       "      <td>False</td>\n",
       "      <td>False</td>\n",
       "      <td>0.91</td>\n",
       "    </tr>\n",
       "    <tr>\n",
       "      <th>2</th>\n",
       "      <td>1</td>\n",
       "      <td>2022-09-01</td>\n",
       "      <td>Primero</td>\n",
       "      <td>1</td>\n",
       "      <td>False</td>\n",
       "      <td>Coro</td>\n",
       "      <td>Oboe</td>\n",
       "      <td>Connie Lawrence</td>\n",
       "      <td>True</td>\n",
       "      <td>2</td>\n",
       "      <td>3</td>\n",
       "      <td>False</td>\n",
       "      <td>False</td>\n",
       "      <td>False</td>\n",
       "      <td>0.66</td>\n",
       "    </tr>\n",
       "    <tr>\n",
       "      <th>3</th>\n",
       "      <td>1</td>\n",
       "      <td>2023-01-01</td>\n",
       "      <td>Segundo</td>\n",
       "      <td>2</td>\n",
       "      <td>False</td>\n",
       "      <td>Solfeo</td>\n",
       "      <td>Oboe</td>\n",
       "      <td>Connie Lawrence</td>\n",
       "      <td>False</td>\n",
       "      <td>7</td>\n",
       "      <td>5</td>\n",
       "      <td>False</td>\n",
       "      <td>False</td>\n",
       "      <td>False</td>\n",
       "      <td>0.90</td>\n",
       "    </tr>\n",
       "    <tr>\n",
       "      <th>4</th>\n",
       "      <td>1</td>\n",
       "      <td>2023-06-01</td>\n",
       "      <td>Segundo</td>\n",
       "      <td>2</td>\n",
       "      <td>False</td>\n",
       "      <td>Cámara</td>\n",
       "      <td>Oboe</td>\n",
       "      <td>Angie Henderson</td>\n",
       "      <td>True</td>\n",
       "      <td>2</td>\n",
       "      <td>3</td>\n",
       "      <td>True</td>\n",
       "      <td>False</td>\n",
       "      <td>False</td>\n",
       "      <td>0.99</td>\n",
       "    </tr>\n",
       "  </tbody>\n",
       "</table>\n",
       "</div>"
      ],
      "text/plain": [
       "   ID_Alumno       Fecha    Curso  Años_Inscrito  Banda   Asignatura  \\\n",
       "0          1  2022-01-01  Primero              1  False  Instrumento   \n",
       "1          1  2022-06-01  Primero              1  False         Coro   \n",
       "2          1  2022-09-01  Primero              1  False         Coro   \n",
       "3          1  2023-01-01  Segundo              2  False       Solfeo   \n",
       "4          1  2023-06-01  Segundo              2  False       Cámara   \n",
       "\n",
       "  Instrumento         Profesor  Aprobado  Horas_Practica  Satisfaccion  \\\n",
       "0        Oboe  Gabrielle Davis      True               3             4   \n",
       "1        Oboe  Cristian Santos      True               3             4   \n",
       "2        Oboe  Connie Lawrence      True               2             3   \n",
       "3        Oboe  Connie Lawrence     False               7             5   \n",
       "4        Oboe  Angie Henderson      True               2             3   \n",
       "\n",
       "   Abandono_Educacion  Pruebas_Grado_Profesional  Avance_Grado_Profesional  \\\n",
       "0               False                      False                     False   \n",
       "1               False                      False                     False   \n",
       "2               False                      False                     False   \n",
       "3               False                      False                     False   \n",
       "4                True                      False                     False   \n",
       "\n",
       "   Promedio_Asistencia  \n",
       "0                 0.68  \n",
       "1                 0.91  \n",
       "2                 0.66  \n",
       "3                 0.90  \n",
       "4                 0.99  "
      ]
     },
     "execution_count": 13,
     "metadata": {},
     "output_type": "execute_result"
    }
   ],
   "source": [
    "df = pd.read_csv(\"dataset.csv\")\n",
    "df.head()"
   ]
  },
  {
   "cell_type": "code",
   "execution_count": 23,
   "metadata": {},
   "outputs": [
    {
     "data": {
      "text/plain": [
       "<Axes: xlabel='Satisfaccion', ylabel='count'>"
      ]
     },
     "execution_count": 23,
     "metadata": {},
     "output_type": "execute_result"
    },
    {
     "data": {
      "image/png": "[encoded data removed]",
      "text/plain": [
       "<Figure size 640x480 with 1 Axes>"
      ]
     },
     "metadata": {},
     "output_type": "display_data"
    }
   ],
   "source": [
    "sns.countplot(data= df, x= \"Satisfaccion\")"
   ]
  }
 ],
 "metadata": {
  "kernelspec": {
   "display_name": "Python 3",
   "language": "python",
   "name": "python3"
  },
  "language_info": {
   "codemirror_mode": {
    "name": "ipython",
    "version": 3
   },
   "file_extension": ".py",
   "mimetype": "text/x-python",
   "name": "python",
   "nbconvert_exporter": "python",
   "pygments_lexer": "ipython3",
   "version": "3.11.10"
  }
 },
 "nbformat": 4,
 "nbformat_minor": 2
}
